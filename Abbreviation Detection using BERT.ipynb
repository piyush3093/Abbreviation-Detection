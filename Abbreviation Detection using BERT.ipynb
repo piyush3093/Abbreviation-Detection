{
  "nbformat": 4,
  "nbformat_minor": 0,
  "metadata": {
    "colab": {
      "name": "AD 2.ipynb",
      "provenance": [],
      "collapsed_sections": []
    },
    "kernelspec": {
      "name": "python3",
      "display_name": "Python 3"
    },
    "language_info": {
      "name": "python"
    },
    "accelerator": "TPU",
    "widgets": {
      "application/vnd.jupyter.widget-state+json": {
        "553f754e521549baae60e78a18baa432": {
          "model_module": "@jupyter-widgets/controls",
          "model_name": "HBoxModel",
          "state": {
            "_view_name": "HBoxView",
            "_dom_classes": [],
            "_model_name": "HBoxModel",
            "_view_module": "@jupyter-widgets/controls",
            "_model_module_version": "1.5.0",
            "_view_count": null,
            "_view_module_version": "1.5.0",
            "box_style": "",
            "layout": "IPY_MODEL_beded54a110c4e498228b27cdd21d5e1",
            "_model_module": "@jupyter-widgets/controls",
            "children": [
              "IPY_MODEL_4d7bd3e981884462b3ec9d3a229d9c3e",
              "IPY_MODEL_4161a7bc36be49d08c16adc45406385c"
            ]
          }
        },
        "beded54a110c4e498228b27cdd21d5e1": {
          "model_module": "@jupyter-widgets/base",
          "model_name": "LayoutModel",
          "state": {
            "_view_name": "LayoutView",
            "grid_template_rows": null,
            "right": null,
            "justify_content": null,
            "_view_module": "@jupyter-widgets/base",
            "overflow": null,
            "_model_module_version": "1.2.0",
            "_view_count": null,
            "flex_flow": null,
            "width": null,
            "min_width": null,
            "border": null,
            "align_items": null,
            "bottom": null,
            "_model_module": "@jupyter-widgets/base",
            "top": null,
            "grid_column": null,
            "overflow_y": null,
            "overflow_x": null,
            "grid_auto_flow": null,
            "grid_area": null,
            "grid_template_columns": null,
            "flex": null,
            "_model_name": "LayoutModel",
            "justify_items": null,
            "grid_row": null,
            "max_height": null,
            "align_content": null,
            "visibility": null,
            "align_self": null,
            "height": null,
            "min_height": null,
            "padding": null,
            "grid_auto_rows": null,
            "grid_gap": null,
            "max_width": null,
            "order": null,
            "_view_module_version": "1.2.0",
            "grid_template_areas": null,
            "object_position": null,
            "object_fit": null,
            "grid_auto_columns": null,
            "margin": null,
            "display": null,
            "left": null
          }
        },
        "4d7bd3e981884462b3ec9d3a229d9c3e": {
          "model_module": "@jupyter-widgets/controls",
          "model_name": "FloatProgressModel",
          "state": {
            "_view_name": "ProgressView",
            "style": "IPY_MODEL_b644a2bb56e4474d8ae947cd1c48ea2b",
            "_dom_classes": [],
            "description": "100%",
            "_model_name": "FloatProgressModel",
            "bar_style": "success",
            "max": 10000,
            "_view_module": "@jupyter-widgets/controls",
            "_model_module_version": "1.5.0",
            "value": 10000,
            "_view_count": null,
            "_view_module_version": "1.5.0",
            "orientation": "horizontal",
            "min": 0,
            "description_tooltip": null,
            "_model_module": "@jupyter-widgets/controls",
            "layout": "IPY_MODEL_42271b2b650f4cf683e88e39716ea14a"
          }
        },
        "4161a7bc36be49d08c16adc45406385c": {
          "model_module": "@jupyter-widgets/controls",
          "model_name": "HTMLModel",
          "state": {
            "_view_name": "HTMLView",
            "style": "IPY_MODEL_9cfe0eb563454f848a1a2a6da492a633",
            "_dom_classes": [],
            "description": "",
            "_model_name": "HTMLModel",
            "placeholder": "​",
            "_view_module": "@jupyter-widgets/controls",
            "_model_module_version": "1.5.0",
            "value": " 10000/10000 [21:57&lt;00:00,  7.59it/s]",
            "_view_count": null,
            "_view_module_version": "1.5.0",
            "description_tooltip": null,
            "_model_module": "@jupyter-widgets/controls",
            "layout": "IPY_MODEL_5096f968fed843ba959aecb6ead60eb7"
          }
        },
        "b644a2bb56e4474d8ae947cd1c48ea2b": {
          "model_module": "@jupyter-widgets/controls",
          "model_name": "ProgressStyleModel",
          "state": {
            "_view_name": "StyleView",
            "_model_name": "ProgressStyleModel",
            "description_width": "initial",
            "_view_module": "@jupyter-widgets/base",
            "_model_module_version": "1.5.0",
            "_view_count": null,
            "_view_module_version": "1.2.0",
            "bar_color": null,
            "_model_module": "@jupyter-widgets/controls"
          }
        },
        "42271b2b650f4cf683e88e39716ea14a": {
          "model_module": "@jupyter-widgets/base",
          "model_name": "LayoutModel",
          "state": {
            "_view_name": "LayoutView",
            "grid_template_rows": null,
            "right": null,
            "justify_content": null,
            "_view_module": "@jupyter-widgets/base",
            "overflow": null,
            "_model_module_version": "1.2.0",
            "_view_count": null,
            "flex_flow": null,
            "width": null,
            "min_width": null,
            "border": null,
            "align_items": null,
            "bottom": null,
            "_model_module": "@jupyter-widgets/base",
            "top": null,
            "grid_column": null,
            "overflow_y": null,
            "overflow_x": null,
            "grid_auto_flow": null,
            "grid_area": null,
            "grid_template_columns": null,
            "flex": null,
            "_model_name": "LayoutModel",
            "justify_items": null,
            "grid_row": null,
            "max_height": null,
            "align_content": null,
            "visibility": null,
            "align_self": null,
            "height": null,
            "min_height": null,
            "padding": null,
            "grid_auto_rows": null,
            "grid_gap": null,
            "max_width": null,
            "order": null,
            "_view_module_version": "1.2.0",
            "grid_template_areas": null,
            "object_position": null,
            "object_fit": null,
            "grid_auto_columns": null,
            "margin": null,
            "display": null,
            "left": null
          }
        },
        "9cfe0eb563454f848a1a2a6da492a633": {
          "model_module": "@jupyter-widgets/controls",
          "model_name": "DescriptionStyleModel",
          "state": {
            "_view_name": "StyleView",
            "_model_name": "DescriptionStyleModel",
            "description_width": "",
            "_view_module": "@jupyter-widgets/base",
            "_model_module_version": "1.5.0",
            "_view_count": null,
            "_view_module_version": "1.2.0",
            "_model_module": "@jupyter-widgets/controls"
          }
        },
        "5096f968fed843ba959aecb6ead60eb7": {
          "model_module": "@jupyter-widgets/base",
          "model_name": "LayoutModel",
          "state": {
            "_view_name": "LayoutView",
            "grid_template_rows": null,
            "right": null,
            "justify_content": null,
            "_view_module": "@jupyter-widgets/base",
            "overflow": null,
            "_model_module_version": "1.2.0",
            "_view_count": null,
            "flex_flow": null,
            "width": null,
            "min_width": null,
            "border": null,
            "align_items": null,
            "bottom": null,
            "_model_module": "@jupyter-widgets/base",
            "top": null,
            "grid_column": null,
            "overflow_y": null,
            "overflow_x": null,
            "grid_auto_flow": null,
            "grid_area": null,
            "grid_template_columns": null,
            "flex": null,
            "_model_name": "LayoutModel",
            "justify_items": null,
            "grid_row": null,
            "max_height": null,
            "align_content": null,
            "visibility": null,
            "align_self": null,
            "height": null,
            "min_height": null,
            "padding": null,
            "grid_auto_rows": null,
            "grid_gap": null,
            "max_width": null,
            "order": null,
            "_view_module_version": "1.2.0",
            "grid_template_areas": null,
            "object_position": null,
            "object_fit": null,
            "grid_auto_columns": null,
            "margin": null,
            "display": null,
            "left": null
          }
        },
        "c0e34bd26026446faf6617244b849d54": {
          "model_module": "@jupyter-widgets/controls",
          "model_name": "HBoxModel",
          "state": {
            "_view_name": "HBoxView",
            "_dom_classes": [],
            "_model_name": "HBoxModel",
            "_view_module": "@jupyter-widgets/controls",
            "_model_module_version": "1.5.0",
            "_view_count": null,
            "_view_module_version": "1.5.0",
            "box_style": "",
            "layout": "IPY_MODEL_a464d1df3d444d8e8dad68dd23d1fb61",
            "_model_module": "@jupyter-widgets/controls",
            "children": [
              "IPY_MODEL_073832b7f03348c6a8fa43b6b0d51b92",
              "IPY_MODEL_7d8a3ac3db594b7aa11965eb6de8f827"
            ]
          }
        },
        "a464d1df3d444d8e8dad68dd23d1fb61": {
          "model_module": "@jupyter-widgets/base",
          "model_name": "LayoutModel",
          "state": {
            "_view_name": "LayoutView",
            "grid_template_rows": null,
            "right": null,
            "justify_content": null,
            "_view_module": "@jupyter-widgets/base",
            "overflow": null,
            "_model_module_version": "1.2.0",
            "_view_count": null,
            "flex_flow": null,
            "width": null,
            "min_width": null,
            "border": null,
            "align_items": null,
            "bottom": null,
            "_model_module": "@jupyter-widgets/base",
            "top": null,
            "grid_column": null,
            "overflow_y": null,
            "overflow_x": null,
            "grid_auto_flow": null,
            "grid_area": null,
            "grid_template_columns": null,
            "flex": null,
            "_model_name": "LayoutModel",
            "justify_items": null,
            "grid_row": null,
            "max_height": null,
            "align_content": null,
            "visibility": null,
            "align_self": null,
            "height": null,
            "min_height": null,
            "padding": null,
            "grid_auto_rows": null,
            "grid_gap": null,
            "max_width": null,
            "order": null,
            "_view_module_version": "1.2.0",
            "grid_template_areas": null,
            "object_position": null,
            "object_fit": null,
            "grid_auto_columns": null,
            "margin": null,
            "display": null,
            "left": null
          }
        },
        "073832b7f03348c6a8fa43b6b0d51b92": {
          "model_module": "@jupyter-widgets/controls",
          "model_name": "FloatProgressModel",
          "state": {
            "_view_name": "ProgressView",
            "style": "IPY_MODEL_c547f94ea09b4f69a9c8ee9fde6f1ad9",
            "_dom_classes": [],
            "description": "100%",
            "_model_name": "FloatProgressModel",
            "bar_style": "success",
            "max": 2000,
            "_view_module": "@jupyter-widgets/controls",
            "_model_module_version": "1.5.0",
            "value": 2000,
            "_view_count": null,
            "_view_module_version": "1.5.0",
            "orientation": "horizontal",
            "min": 0,
            "description_tooltip": null,
            "_model_module": "@jupyter-widgets/controls",
            "layout": "IPY_MODEL_a0279ab8669f4d0eae5498015ec2d549"
          }
        },
        "7d8a3ac3db594b7aa11965eb6de8f827": {
          "model_module": "@jupyter-widgets/controls",
          "model_name": "HTMLModel",
          "state": {
            "_view_name": "HTMLView",
            "style": "IPY_MODEL_807f58d896024c53a7862126eb63455a",
            "_dom_classes": [],
            "description": "",
            "_model_name": "HTMLModel",
            "placeholder": "​",
            "_view_module": "@jupyter-widgets/controls",
            "_model_module_version": "1.5.0",
            "value": " 2000/2000 [02:13&lt;00:00, 14.95it/s]",
            "_view_count": null,
            "_view_module_version": "1.5.0",
            "description_tooltip": null,
            "_model_module": "@jupyter-widgets/controls",
            "layout": "IPY_MODEL_8d55b57979b64650b4f29e4d1a519650"
          }
        },
        "c547f94ea09b4f69a9c8ee9fde6f1ad9": {
          "model_module": "@jupyter-widgets/controls",
          "model_name": "ProgressStyleModel",
          "state": {
            "_view_name": "StyleView",
            "_model_name": "ProgressStyleModel",
            "description_width": "initial",
            "_view_module": "@jupyter-widgets/base",
            "_model_module_version": "1.5.0",
            "_view_count": null,
            "_view_module_version": "1.2.0",
            "bar_color": null,
            "_model_module": "@jupyter-widgets/controls"
          }
        },
        "a0279ab8669f4d0eae5498015ec2d549": {
          "model_module": "@jupyter-widgets/base",
          "model_name": "LayoutModel",
          "state": {
            "_view_name": "LayoutView",
            "grid_template_rows": null,
            "right": null,
            "justify_content": null,
            "_view_module": "@jupyter-widgets/base",
            "overflow": null,
            "_model_module_version": "1.2.0",
            "_view_count": null,
            "flex_flow": null,
            "width": null,
            "min_width": null,
            "border": null,
            "align_items": null,
            "bottom": null,
            "_model_module": "@jupyter-widgets/base",
            "top": null,
            "grid_column": null,
            "overflow_y": null,
            "overflow_x": null,
            "grid_auto_flow": null,
            "grid_area": null,
            "grid_template_columns": null,
            "flex": null,
            "_model_name": "LayoutModel",
            "justify_items": null,
            "grid_row": null,
            "max_height": null,
            "align_content": null,
            "visibility": null,
            "align_self": null,
            "height": null,
            "min_height": null,
            "padding": null,
            "grid_auto_rows": null,
            "grid_gap": null,
            "max_width": null,
            "order": null,
            "_view_module_version": "1.2.0",
            "grid_template_areas": null,
            "object_position": null,
            "object_fit": null,
            "grid_auto_columns": null,
            "margin": null,
            "display": null,
            "left": null
          }
        },
        "807f58d896024c53a7862126eb63455a": {
          "model_module": "@jupyter-widgets/controls",
          "model_name": "DescriptionStyleModel",
          "state": {
            "_view_name": "StyleView",
            "_model_name": "DescriptionStyleModel",
            "description_width": "",
            "_view_module": "@jupyter-widgets/base",
            "_model_module_version": "1.5.0",
            "_view_count": null,
            "_view_module_version": "1.2.0",
            "_model_module": "@jupyter-widgets/controls"
          }
        },
        "8d55b57979b64650b4f29e4d1a519650": {
          "model_module": "@jupyter-widgets/base",
          "model_name": "LayoutModel",
          "state": {
            "_view_name": "LayoutView",
            "grid_template_rows": null,
            "right": null,
            "justify_content": null,
            "_view_module": "@jupyter-widgets/base",
            "overflow": null,
            "_model_module_version": "1.2.0",
            "_view_count": null,
            "flex_flow": null,
            "width": null,
            "min_width": null,
            "border": null,
            "align_items": null,
            "bottom": null,
            "_model_module": "@jupyter-widgets/base",
            "top": null,
            "grid_column": null,
            "overflow_y": null,
            "overflow_x": null,
            "grid_auto_flow": null,
            "grid_area": null,
            "grid_template_columns": null,
            "flex": null,
            "_model_name": "LayoutModel",
            "justify_items": null,
            "grid_row": null,
            "max_height": null,
            "align_content": null,
            "visibility": null,
            "align_self": null,
            "height": null,
            "min_height": null,
            "padding": null,
            "grid_auto_rows": null,
            "grid_gap": null,
            "max_width": null,
            "order": null,
            "_view_module_version": "1.2.0",
            "grid_template_areas": null,
            "object_position": null,
            "object_fit": null,
            "grid_auto_columns": null,
            "margin": null,
            "display": null,
            "left": null
          }
        }
      }
    }
  },
  "cells": [
    {
      "cell_type": "code",
      "metadata": {
        "id": "75vWFYjYHbUA"
      },
      "source": [
        "import pandas as pd\n",
        "import numpy as np\n",
        "import tensorflow as tf\n",
        "\n",
        "from tqdm import tqdm\n",
        "from tqdm import tqdm_notebook\n",
        "from bs4 import BeautifulSoup\n",
        "import re"
      ],
      "execution_count": 1,
      "outputs": []
    },
    {
      "cell_type": "code",
      "metadata": {
        "id": "nUt1Db0Cn-9C"
      },
      "source": [
        "import tqdm"
      ],
      "execution_count": 50,
      "outputs": []
    },
    {
      "cell_type": "code",
      "metadata": {
        "colab": {
          "base_uri": "https://localhost:8080/"
        },
        "id": "ThByBKuXY243",
        "outputId": "28f15d63-73d5-4648-a88f-67d86acf8cf9"
      },
      "source": [
        "import os\n",
        "\n",
        "os.environ[\"TFHUB_MODEL_LOAD_FORMAT\"]=\"UNCOMPRESSED\"\n",
        "\n",
        "if os.environ['COLAB_TPU_ADDR']:\n",
        "  cluster_resolver = tf.distribute.cluster_resolver.TPUClusterResolver(tpu='')\n",
        "  tf.config.experimental_connect_to_cluster(cluster_resolver)\n",
        "  tf.tpu.experimental.initialize_tpu_system(cluster_resolver)\n",
        "  strategy = tf.distribute.TPUStrategy(cluster_resolver)\n",
        "  print('Using TPU')\n",
        "elif tf.test.is_gpu_available():\n",
        "  strategy = tf.distribute.MirroredStrategy()\n",
        "  print('Using GPU')\n",
        "else:\n",
        "  raise ValueError('Running on CPU is not recommended.')"
      ],
      "execution_count": 2,
      "outputs": [
        {
          "output_type": "stream",
          "text": [
            "INFO:tensorflow:Initializing the TPU system: grpc://10.71.33.74:8470\n"
          ],
          "name": "stdout"
        },
        {
          "output_type": "stream",
          "text": [
            "INFO:tensorflow:Initializing the TPU system: grpc://10.71.33.74:8470\n"
          ],
          "name": "stderr"
        },
        {
          "output_type": "stream",
          "text": [
            "INFO:tensorflow:Clearing out eager caches\n"
          ],
          "name": "stdout"
        },
        {
          "output_type": "stream",
          "text": [
            "INFO:tensorflow:Clearing out eager caches\n"
          ],
          "name": "stderr"
        },
        {
          "output_type": "stream",
          "text": [
            "INFO:tensorflow:Finished initializing TPU system.\n"
          ],
          "name": "stdout"
        },
        {
          "output_type": "stream",
          "text": [
            "INFO:tensorflow:Finished initializing TPU system.\n"
          ],
          "name": "stderr"
        },
        {
          "output_type": "stream",
          "text": [
            "INFO:tensorflow:Found TPU system:\n"
          ],
          "name": "stdout"
        },
        {
          "output_type": "stream",
          "text": [
            "INFO:tensorflow:Found TPU system:\n"
          ],
          "name": "stderr"
        },
        {
          "output_type": "stream",
          "text": [
            "INFO:tensorflow:*** Num TPU Cores: 8\n"
          ],
          "name": "stdout"
        },
        {
          "output_type": "stream",
          "text": [
            "INFO:tensorflow:*** Num TPU Cores: 8\n"
          ],
          "name": "stderr"
        },
        {
          "output_type": "stream",
          "text": [
            "INFO:tensorflow:*** Num TPU Workers: 1\n"
          ],
          "name": "stdout"
        },
        {
          "output_type": "stream",
          "text": [
            "INFO:tensorflow:*** Num TPU Workers: 1\n"
          ],
          "name": "stderr"
        },
        {
          "output_type": "stream",
          "text": [
            "INFO:tensorflow:*** Num TPU Cores Per Worker: 8\n"
          ],
          "name": "stdout"
        },
        {
          "output_type": "stream",
          "text": [
            "INFO:tensorflow:*** Num TPU Cores Per Worker: 8\n"
          ],
          "name": "stderr"
        },
        {
          "output_type": "stream",
          "text": [
            "INFO:tensorflow:*** Available Device: _DeviceAttributes(/job:localhost/replica:0/task:0/device:CPU:0, CPU, 0, 0)\n"
          ],
          "name": "stdout"
        },
        {
          "output_type": "stream",
          "text": [
            "INFO:tensorflow:*** Available Device: _DeviceAttributes(/job:localhost/replica:0/task:0/device:CPU:0, CPU, 0, 0)\n"
          ],
          "name": "stderr"
        },
        {
          "output_type": "stream",
          "text": [
            "INFO:tensorflow:*** Available Device: _DeviceAttributes(/job:worker/replica:0/task:0/device:CPU:0, CPU, 0, 0)\n"
          ],
          "name": "stdout"
        },
        {
          "output_type": "stream",
          "text": [
            "INFO:tensorflow:*** Available Device: _DeviceAttributes(/job:worker/replica:0/task:0/device:CPU:0, CPU, 0, 0)\n"
          ],
          "name": "stderr"
        },
        {
          "output_type": "stream",
          "text": [
            "INFO:tensorflow:*** Available Device: _DeviceAttributes(/job:worker/replica:0/task:0/device:TPU:0, TPU, 0, 0)\n"
          ],
          "name": "stdout"
        },
        {
          "output_type": "stream",
          "text": [
            "INFO:tensorflow:*** Available Device: _DeviceAttributes(/job:worker/replica:0/task:0/device:TPU:0, TPU, 0, 0)\n"
          ],
          "name": "stderr"
        },
        {
          "output_type": "stream",
          "text": [
            "INFO:tensorflow:*** Available Device: _DeviceAttributes(/job:worker/replica:0/task:0/device:TPU:1, TPU, 0, 0)\n"
          ],
          "name": "stdout"
        },
        {
          "output_type": "stream",
          "text": [
            "INFO:tensorflow:*** Available Device: _DeviceAttributes(/job:worker/replica:0/task:0/device:TPU:1, TPU, 0, 0)\n"
          ],
          "name": "stderr"
        },
        {
          "output_type": "stream",
          "text": [
            "INFO:tensorflow:*** Available Device: _DeviceAttributes(/job:worker/replica:0/task:0/device:TPU:2, TPU, 0, 0)\n"
          ],
          "name": "stdout"
        },
        {
          "output_type": "stream",
          "text": [
            "INFO:tensorflow:*** Available Device: _DeviceAttributes(/job:worker/replica:0/task:0/device:TPU:2, TPU, 0, 0)\n"
          ],
          "name": "stderr"
        },
        {
          "output_type": "stream",
          "text": [
            "INFO:tensorflow:*** Available Device: _DeviceAttributes(/job:worker/replica:0/task:0/device:TPU:3, TPU, 0, 0)\n"
          ],
          "name": "stdout"
        },
        {
          "output_type": "stream",
          "text": [
            "INFO:tensorflow:*** Available Device: _DeviceAttributes(/job:worker/replica:0/task:0/device:TPU:3, TPU, 0, 0)\n"
          ],
          "name": "stderr"
        },
        {
          "output_type": "stream",
          "text": [
            "INFO:tensorflow:*** Available Device: _DeviceAttributes(/job:worker/replica:0/task:0/device:TPU:4, TPU, 0, 0)\n"
          ],
          "name": "stdout"
        },
        {
          "output_type": "stream",
          "text": [
            "INFO:tensorflow:*** Available Device: _DeviceAttributes(/job:worker/replica:0/task:0/device:TPU:4, TPU, 0, 0)\n"
          ],
          "name": "stderr"
        },
        {
          "output_type": "stream",
          "text": [
            "INFO:tensorflow:*** Available Device: _DeviceAttributes(/job:worker/replica:0/task:0/device:TPU:5, TPU, 0, 0)\n"
          ],
          "name": "stdout"
        },
        {
          "output_type": "stream",
          "text": [
            "INFO:tensorflow:*** Available Device: _DeviceAttributes(/job:worker/replica:0/task:0/device:TPU:5, TPU, 0, 0)\n"
          ],
          "name": "stderr"
        },
        {
          "output_type": "stream",
          "text": [
            "INFO:tensorflow:*** Available Device: _DeviceAttributes(/job:worker/replica:0/task:0/device:TPU:6, TPU, 0, 0)\n"
          ],
          "name": "stdout"
        },
        {
          "output_type": "stream",
          "text": [
            "INFO:tensorflow:*** Available Device: _DeviceAttributes(/job:worker/replica:0/task:0/device:TPU:6, TPU, 0, 0)\n"
          ],
          "name": "stderr"
        },
        {
          "output_type": "stream",
          "text": [
            "INFO:tensorflow:*** Available Device: _DeviceAttributes(/job:worker/replica:0/task:0/device:TPU:7, TPU, 0, 0)\n"
          ],
          "name": "stdout"
        },
        {
          "output_type": "stream",
          "text": [
            "INFO:tensorflow:*** Available Device: _DeviceAttributes(/job:worker/replica:0/task:0/device:TPU:7, TPU, 0, 0)\n"
          ],
          "name": "stderr"
        },
        {
          "output_type": "stream",
          "text": [
            "INFO:tensorflow:*** Available Device: _DeviceAttributes(/job:worker/replica:0/task:0/device:TPU_SYSTEM:0, TPU_SYSTEM, 0, 0)\n"
          ],
          "name": "stdout"
        },
        {
          "output_type": "stream",
          "text": [
            "INFO:tensorflow:*** Available Device: _DeviceAttributes(/job:worker/replica:0/task:0/device:TPU_SYSTEM:0, TPU_SYSTEM, 0, 0)\n"
          ],
          "name": "stderr"
        },
        {
          "output_type": "stream",
          "text": [
            "INFO:tensorflow:*** Available Device: _DeviceAttributes(/job:worker/replica:0/task:0/device:XLA_CPU:0, XLA_CPU, 0, 0)\n"
          ],
          "name": "stdout"
        },
        {
          "output_type": "stream",
          "text": [
            "INFO:tensorflow:*** Available Device: _DeviceAttributes(/job:worker/replica:0/task:0/device:XLA_CPU:0, XLA_CPU, 0, 0)\n"
          ],
          "name": "stderr"
        },
        {
          "output_type": "stream",
          "text": [
            "Using TPU\n"
          ],
          "name": "stdout"
        }
      ]
    },
    {
      "cell_type": "code",
      "metadata": {
        "id": "sYwQqyzjOjxd",
        "colab": {
          "base_uri": "https://localhost:8080/"
        },
        "outputId": "9212fbd5-6536-4cdc-85ef-166a33716127"
      },
      "source": [
        "!pip install -q tensorflow-text"
      ],
      "execution_count": 3,
      "outputs": [
        {
          "output_type": "stream",
          "text": [
            "\u001b[K     |████████████████████████████████| 3.4MB 7.0MB/s \n",
            "\u001b[?25h"
          ],
          "name": "stdout"
        }
      ]
    },
    {
      "cell_type": "code",
      "metadata": {
        "id": "_Eg_RgBhK7S_"
      },
      "source": [
        "import random"
      ],
      "execution_count": 4,
      "outputs": []
    },
    {
      "cell_type": "code",
      "metadata": {
        "id": "_26Mi2hCOeLN"
      },
      "source": [
        "import tensorflow_hub as hub\n",
        "import tensorflow_text as text"
      ],
      "execution_count": 5,
      "outputs": []
    },
    {
      "cell_type": "code",
      "metadata": {
        "colab": {
          "base_uri": "https://localhost:8080/"
        },
        "id": "RKNJSM4LI7of",
        "outputId": "2a4d8c0c-6454-4a16-de1f-17b137ab5ed2"
      },
      "source": [
        "from nltk.corpus import stopwords\n",
        "import nltk\n",
        "nltk.download('stopwords')\n",
        "stop_words = set(stopwords.words('english'))"
      ],
      "execution_count": 6,
      "outputs": [
        {
          "output_type": "stream",
          "text": [
            "[nltk_data] Downloading package stopwords to /root/nltk_data...\n",
            "[nltk_data]   Unzipping corpora/stopwords.zip.\n"
          ],
          "name": "stdout"
        }
      ]
    },
    {
      "cell_type": "code",
      "metadata": {
        "colab": {
          "base_uri": "https://localhost:8080/",
          "height": 195
        },
        "id": "Y2dtk0nYHgK9",
        "outputId": "aa35d771-9c56-4661-cd26-3e646e3889d2"
      },
      "source": [
        "data = pd.read_csv('/content/drive/MyDrive/Abbreviation_detection_dataset/archive/full_data.csv', nrows = 10000)\n",
        "data.head()"
      ],
      "execution_count": 9,
      "outputs": [
        {
          "output_type": "execute_result",
          "data": {
            "text/html": [
              "<div>\n",
              "<style scoped>\n",
              "    .dataframe tbody tr th:only-of-type {\n",
              "        vertical-align: middle;\n",
              "    }\n",
              "\n",
              "    .dataframe tbody tr th {\n",
              "        vertical-align: top;\n",
              "    }\n",
              "\n",
              "    .dataframe thead th {\n",
              "        text-align: right;\n",
              "    }\n",
              "</style>\n",
              "<table border=\"1\" class=\"dataframe\">\n",
              "  <thead>\n",
              "    <tr style=\"text-align: right;\">\n",
              "      <th></th>\n",
              "      <th>TEXT</th>\n",
              "      <th>LOCATION</th>\n",
              "      <th>LABEL</th>\n",
              "    </tr>\n",
              "  </thead>\n",
              "  <tbody>\n",
              "    <tr>\n",
              "      <th>0</th>\n",
              "      <td>alphabisabolol has a primary antipeptic action...</td>\n",
              "      <td>56</td>\n",
              "      <td>substrate</td>\n",
              "    </tr>\n",
              "    <tr>\n",
              "      <th>1</th>\n",
              "      <td>a report is given on the recent discovery of o...</td>\n",
              "      <td>24|49|68|113|137|172</td>\n",
              "      <td>carcinosarcoma|recovery|reference|recovery|aft...</td>\n",
              "    </tr>\n",
              "    <tr>\n",
              "      <th>2</th>\n",
              "      <td>the virostatic compound nndiethyloxotetradecyl...</td>\n",
              "      <td>55</td>\n",
              "      <td>substrate</td>\n",
              "    </tr>\n",
              "    <tr>\n",
              "      <th>3</th>\n",
              "      <td>rmi rmi and rmi are newly synthetized nrdibenz...</td>\n",
              "      <td>25|82|127|182|222</td>\n",
              "      <td>compounds|compounds|inhibitory|lethal doses|ca...</td>\n",
              "    </tr>\n",
              "    <tr>\n",
              "      <th>4</th>\n",
              "      <td>a doubleblind study with intraindividual compa...</td>\n",
              "      <td>22|26|28|77|90|144|158|203</td>\n",
              "      <td>oxazepam|placebo|oral administration|pentagast...</td>\n",
              "    </tr>\n",
              "  </tbody>\n",
              "</table>\n",
              "</div>"
            ],
            "text/plain": [
              "                                                TEXT  ...                                              LABEL\n",
              "0  alphabisabolol has a primary antipeptic action...  ...                                          substrate\n",
              "1  a report is given on the recent discovery of o...  ...  carcinosarcoma|recovery|reference|recovery|aft...\n",
              "2  the virostatic compound nndiethyloxotetradecyl...  ...                                          substrate\n",
              "3  rmi rmi and rmi are newly synthetized nrdibenz...  ...  compounds|compounds|inhibitory|lethal doses|ca...\n",
              "4  a doubleblind study with intraindividual compa...  ...  oxazepam|placebo|oral administration|pentagast...\n",
              "\n",
              "[5 rows x 3 columns]"
            ]
          },
          "metadata": {
            "tags": []
          },
          "execution_count": 9
        }
      ]
    },
    {
      "cell_type": "code",
      "metadata": {
        "id": "6JhlEux7HiT0"
      },
      "source": [
        "sentences = []\n",
        "abber_locs = []\n",
        "\n",
        "for i in range(0, len(data)):\n",
        "    sentences.append(data['TEXT'][i])\n",
        "    abber_locs.append(data['LOCATION'][i].split(\"|\"))"
      ],
      "execution_count": 10,
      "outputs": []
    },
    {
      "cell_type": "code",
      "metadata": {
        "id": "nrajXR7vISqJ"
      },
      "source": [
        "abbers = []\n",
        "\n",
        "for i in range(0, len(abber_locs)):\n",
        "    temp = []\n",
        "    for l in abber_locs[i]:\n",
        "        temp.append(sentences[i].split()[int(l)])\n",
        "    abbers.append(temp)"
      ],
      "execution_count": 11,
      "outputs": []
    },
    {
      "cell_type": "code",
      "metadata": {
        "id": "lQUG1MYbIzcF"
      },
      "source": [
        "def text_cleaner(text):\n",
        "    new_string = text.lower()\n",
        "    new_string = BeautifulSoup(new_string, 'lxml').text\n",
        "    new_string = re.sub(\"[^a-zA-Z0-9]\", \" \", new_string)\n",
        "    tokens = [w for w in new_string.split() if not w in stop_words]\n",
        "    return (' '.join(tokens)).strip()\n",
        "\n",
        "def abbreviation_cleaner(text):\n",
        "    new_string = text.lower()\n",
        "    new_string = re.sub(\"[^a-zA-Z0-9]\", \"\", new_string)\n",
        "    return new_string"
      ],
      "execution_count": 12,
      "outputs": []
    },
    {
      "cell_type": "code",
      "metadata": {
        "id": "fqFXjN87JCUf"
      },
      "source": [
        "cleaned_sentences = []\n",
        "for i in range(0, len(sentences)):\n",
        "    cleaned_sentences.append(text_cleaner(sentences[i]))\n",
        "\n",
        "cleaned_abbers = []\n",
        "for i in abbers:\n",
        "    temp = []\n",
        "    for j in i:\n",
        "        temp.append(abbreviation_cleaner(j))\n",
        "    cleaned_abbers.append(temp)"
      ],
      "execution_count": 13,
      "outputs": []
    },
    {
      "cell_type": "code",
      "metadata": {
        "colab": {
          "base_uri": "https://localhost:8080/"
        },
        "id": "I6RpBV9wJMWu",
        "outputId": "950250b1-01fd-4db5-9158-28896fabab19"
      },
      "source": [
        "print(\"total no of abberviations:\", sum([len(x) for x in cleaned_abbers]))"
      ],
      "execution_count": 16,
      "outputs": [
        {
          "output_type": "stream",
          "text": [
            "total no of abberviations: 29916\n"
          ],
          "name": "stdout"
        }
      ]
    },
    {
      "cell_type": "code",
      "metadata": {
        "id": "QwyXzxo1Jpj4"
      },
      "source": [
        "def select_words(sentence, abber_list):\n",
        "  j = 0\n",
        "  words = sentence.split()\n",
        "  random.shuffle(words)\n",
        "  temp = []\n",
        "  for i in range(0, len(words)):\n",
        "    if (words[i] in abber_list):\n",
        "      continue\n",
        "    else:\n",
        "      temp.append(words[i])\n",
        "      j += 1\n",
        "    if (j == len(abber_list)):\n",
        "      break\n",
        "  return temp"
      ],
      "execution_count": 17,
      "outputs": []
    },
    {
      "cell_type": "code",
      "metadata": {
        "id": "GmM3jB7GLdd3"
      },
      "source": [
        "normal_words = []\n",
        "for i in range(0, len(cleaned_sentences)):\n",
        "  normal_words.append(select_words(cleaned_sentences[i], cleaned_abbers[i]))"
      ],
      "execution_count": 19,
      "outputs": []
    },
    {
      "cell_type": "code",
      "metadata": {
        "id": "rd4CtqM6z9mu"
      },
      "source": [
        "sentences = []\n",
        "words = []\n",
        "labels = []\n",
        "for i in range(0, len(cleaned_sentences)):\n",
        "  for j in range(0, len(cleaned_abbers[i])):\n",
        "    sentences.append(cleaned_sentences[i])\n",
        "    words.append(cleaned_abbers[i][j])\n",
        "    labels.append(1)\n",
        "    sentences.append(cleaned_sentences[i])\n",
        "    words.append(normal_words[i][j])\n",
        "    labels.append(0)"
      ],
      "execution_count": 23,
      "outputs": []
    },
    {
      "cell_type": "code",
      "metadata": {
        "id": "r6URX5Zo3qWb"
      },
      "source": [
        "char2idx = {'a': 1, 'b': 2, 'c': 3, 'd': 4, 'e': 5, 'f': 6, 'g': 7, 'h': 8, 'i': 9, 'j': 10, 'k': 11, 'l': 12, 'm': 13, 'n': 14, 'o': 15,\n",
        "            'p': 16, 'q': 17, 'r': 18, 's': 19, 't': 20, 'u': 21, 'v': 22, 'w': 23, 'x': 24, 'y': 25, 'z': 26, '1': 27, '2': 28, '3': 29,\n",
        "            '4': 30, '5': 31, '6': 32, '7': 33, '8': 34, '9': 35, '0': 36}"
      ],
      "execution_count": 25,
      "outputs": []
    },
    {
      "cell_type": "code",
      "metadata": {
        "id": "pEmAD4GeNULf"
      },
      "source": [
        "preprocess_lnk = 'https://tfhub.dev/tensorflow/bert_en_uncased_preprocess/3'\n",
        "bert_preprocess = hub.load(preprocess_lnk)"
      ],
      "execution_count": 26,
      "outputs": []
    },
    {
      "cell_type": "code",
      "metadata": {
        "id": "vTILdG72Nf5w"
      },
      "source": [
        "tokenizer = hub.KerasLayer(bert_preprocess.tokenize, name='tokenizer')\n",
        "packer = hub.KerasLayer(bert_preprocess.bert_pack_inputs, arguments=dict(seq_length=400))"
      ],
      "execution_count": 27,
      "outputs": []
    },
    {
      "cell_type": "code",
      "metadata": {
        "id": "f3R1JpNQbdyW"
      },
      "source": [
        "enc_lnk = 'https://tfhub.dev/tensorflow/small_bert/bert_en_uncased_L-2_H-128_A-2/2'\n",
        "bert_encoder = hub.KerasLayer(enc_lnk, name='encoder')"
      ],
      "execution_count": 28,
      "outputs": []
    },
    {
      "cell_type": "code",
      "metadata": {
        "id": "w0A_e5OlgP1u"
      },
      "source": [
        "def find_current_word_embedding(word, sentence):\n",
        "  tokens = tokenizer([word]).to_list()[0][0]\n",
        "  tokens2 = tokenizer([sentence])\n",
        "  tokens2list = tokens2[0].to_list()\n",
        "  j = 1\n",
        "  for i in range(0, len(tokens2list)):\n",
        "    if (tokens2list[i] == tokens):\n",
        "      break\n",
        "    else:\n",
        "      j += len(tokens2list[i])\n",
        "  k = j + len(tokens)\n",
        "  segs = packer([tokens2])\n",
        "  out = bert_encoder(segs)\n",
        "  return out['sequence_output'][0][j:k].numpy()"
      ],
      "execution_count": 47,
      "outputs": []
    },
    {
      "cell_type": "code",
      "metadata": {
        "id": "XZs6gRGtjzqp"
      },
      "source": [
        "list1 = ['apples', 'bananas', 'oranges', 'mangoes', 'papaya']\n",
        "list2 = ['lithium', 'boron', 'oxygen', 'carbon', 'nitrogen']\n",
        "##random.seed(10)\n",
        "random.Random(15).shuffle(list1)\n",
        "random.Random(15).shuffle(list2)"
      ],
      "execution_count": 40,
      "outputs": []
    },
    {
      "cell_type": "code",
      "metadata": {
        "colab": {
          "base_uri": "https://localhost:8080/"
        },
        "id": "XLNfuaBimECv",
        "outputId": "83d33cbb-08ce-4ff3-c692-abac7ff75fea"
      },
      "source": [
        "print(list1, list2)"
      ],
      "execution_count": 41,
      "outputs": [
        {
          "output_type": "stream",
          "text": [
            "['papaya', 'mangoes', 'oranges', 'apples', 'bananas'] ['nitrogen', 'carbon', 'oxygen', 'lithium', 'boron']\n"
          ],
          "name": "stdout"
        }
      ]
    },
    {
      "cell_type": "code",
      "metadata": {
        "id": "TzXidq_zm1DV"
      },
      "source": [
        "random.Random(10).shuffle(sentences)\n",
        "random.Random(10).shuffle(words)\n",
        "random.Random(10).shuffle(labels)"
      ],
      "execution_count": 42,
      "outputs": []
    },
    {
      "cell_type": "code",
      "metadata": {
        "id": "jlcalF6wnfkz"
      },
      "source": [
        "train_sentences = sentences[:10000]\n",
        "train_words = words[:10000]\n",
        "train_labels = labels[:10000]"
      ],
      "execution_count": 48,
      "outputs": []
    },
    {
      "cell_type": "code",
      "metadata": {
        "id": "QKQhdlRMsEHO"
      },
      "source": [
        "val_sentences = sentences[10000:12000]\n",
        "val_words = words[10000:12000]\n",
        "val_labels = labels[10000:12000]"
      ],
      "execution_count": 71,
      "outputs": []
    },
    {
      "cell_type": "code",
      "metadata": {
        "id": "IQpx2H8dC78p"
      },
      "source": [
        "os.environ['TF_CPP_MIN_LOG_LEVEL'] = '3'"
      ],
      "execution_count": 45,
      "outputs": []
    },
    {
      "cell_type": "code",
      "metadata": {
        "id": "wlsQZDd6DbRF"
      },
      "source": [
        "tf.compat.v1.logging.set_verbosity(tf.compat.v1.logging.ERROR)"
      ],
      "execution_count": 46,
      "outputs": []
    },
    {
      "cell_type": "code",
      "metadata": {
        "id": "4TNSiX_slv0D",
        "colab": {
          "base_uri": "https://localhost:8080/",
          "height": 66,
          "referenced_widgets": [
            "553f754e521549baae60e78a18baa432",
            "beded54a110c4e498228b27cdd21d5e1",
            "4d7bd3e981884462b3ec9d3a229d9c3e",
            "4161a7bc36be49d08c16adc45406385c",
            "b644a2bb56e4474d8ae947cd1c48ea2b",
            "42271b2b650f4cf683e88e39716ea14a",
            "9cfe0eb563454f848a1a2a6da492a633",
            "5096f968fed843ba959aecb6ead60eb7"
          ]
        },
        "outputId": "9ad8079e-dc9a-47bf-8965-90994c2a1f16"
      },
      "source": [
        "train_berts = []\n",
        "train_tokens = []\n",
        "\n",
        "for i in tqdm.notebook.tqdm(range(0, len(train_sentences))):\n",
        "  train_berts.append(find_current_word_embedding(train_words[i], train_sentences[i]))\n",
        "  train_tokens.append([char2idx[x] for x in train_words[i]])"
      ],
      "execution_count": 51,
      "outputs": [
        {
          "output_type": "display_data",
          "data": {
            "application/vnd.jupyter.widget-view+json": {
              "model_id": "553f754e521549baae60e78a18baa432",
              "version_minor": 0,
              "version_major": 2
            },
            "text/plain": [
              "HBox(children=(FloatProgress(value=0.0, max=10000.0), HTML(value='')))"
            ]
          },
          "metadata": {
            "tags": []
          }
        },
        {
          "output_type": "stream",
          "text": [
            "\n"
          ],
          "name": "stdout"
        }
      ]
    },
    {
      "cell_type": "code",
      "metadata": {
        "colab": {
          "base_uri": "https://localhost:8080/",
          "height": 66,
          "referenced_widgets": [
            "c0e34bd26026446faf6617244b849d54",
            "a464d1df3d444d8e8dad68dd23d1fb61",
            "073832b7f03348c6a8fa43b6b0d51b92",
            "7d8a3ac3db594b7aa11965eb6de8f827",
            "c547f94ea09b4f69a9c8ee9fde6f1ad9",
            "a0279ab8669f4d0eae5498015ec2d549",
            "807f58d896024c53a7862126eb63455a",
            "8d55b57979b64650b4f29e4d1a519650"
          ]
        },
        "id": "s1lUNbHMsShb",
        "outputId": "1c356ee3-e071-469d-afc6-a63923b9dfab"
      },
      "source": [
        "val_berts = []\n",
        "val_tokens = []\n",
        "\n",
        "for i in tqdm.notebook.tqdm(range(0, len(val_sentences))):\n",
        "  val_berts.append(find_current_word_embedding(val_words[i], val_sentences[i]))\n",
        "  val_tokens.append([char2idx[x] for x in val_words[i]])"
      ],
      "execution_count": 63,
      "outputs": [
        {
          "output_type": "display_data",
          "data": {
            "application/vnd.jupyter.widget-view+json": {
              "model_id": "c0e34bd26026446faf6617244b849d54",
              "version_minor": 0,
              "version_major": 2
            },
            "text/plain": [
              "HBox(children=(FloatProgress(value=0.0, max=2000.0), HTML(value='')))"
            ]
          },
          "metadata": {
            "tags": []
          }
        },
        {
          "output_type": "stream",
          "text": [
            "\n"
          ],
          "name": "stdout"
        }
      ]
    },
    {
      "cell_type": "code",
      "metadata": {
        "id": "0c7WdtSkResh"
      },
      "source": [
        "from keras.preprocessing.sequence import pad_sequences\n",
        "train_tokens_enc = pad_sequences(train_tokens, maxlen = 10, padding = 'post')"
      ],
      "execution_count": 52,
      "outputs": []
    },
    {
      "cell_type": "code",
      "metadata": {
        "colab": {
          "base_uri": "https://localhost:8080/"
        },
        "id": "yESXia70u74j",
        "outputId": "b15002fc-9e15-43eb-8318-8d1e104f28cc"
      },
      "source": [
        "type(train_tokens_enc)"
      ],
      "execution_count": 68,
      "outputs": [
        {
          "output_type": "execute_result",
          "data": {
            "text/plain": [
              "numpy.ndarray"
            ]
          },
          "metadata": {
            "tags": []
          },
          "execution_count": 68
        }
      ]
    },
    {
      "cell_type": "code",
      "metadata": {
        "id": "eolfwx70uMsr"
      },
      "source": [
        "val_tokens_enc = pad_sequences(val_tokens, maxlen = 10, padding = 'post')"
      ],
      "execution_count": 64,
      "outputs": []
    },
    {
      "cell_type": "code",
      "metadata": {
        "id": "FnEKdCHyIfMx"
      },
      "source": [
        "from tensorflow.keras import layers\n",
        "from tensorflow.keras.models import Model"
      ],
      "execution_count": 53,
      "outputs": []
    },
    {
      "cell_type": "code",
      "metadata": {
        "id": "Q0K6dU20H8MO"
      },
      "source": [
        "## Model\n",
        "\n",
        "input1 = layers.Input(shape = (None, 128))\n",
        "lstm1 = layers.LSTM(3)\n",
        "out1 = lstm1(input1)\n",
        "\n",
        "input2 = layers.Input(shape = (10,))\n",
        "enc_emb = layers.Embedding(37, 10, trainable = True)(input2)\n",
        "lstm2 = layers.LSTM(3)\n",
        "out2 = lstm2(enc_emb)\n",
        "\n",
        "final_input = layers.Concatenate(axis = -1, name = 'concat_layer')([out1, out2])\n",
        "dense_last = layers.Dense(1)\n",
        "final_output = dense_last(final_input)"
      ],
      "execution_count": 54,
      "outputs": []
    },
    {
      "cell_type": "code",
      "metadata": {
        "id": "eZL_DiVGJ-ih"
      },
      "source": [
        "model = Model([input1, input2], final_output)"
      ],
      "execution_count": 55,
      "outputs": []
    },
    {
      "cell_type": "code",
      "metadata": {
        "colab": {
          "base_uri": "https://localhost:8080/"
        },
        "id": "ccA9eqpzK6hu",
        "outputId": "172c10f7-5715-4273-e3b3-3cf55dff3d36"
      },
      "source": [
        "model.summary()"
      ],
      "execution_count": 56,
      "outputs": [
        {
          "output_type": "stream",
          "text": [
            "Model: \"model\"\n",
            "__________________________________________________________________________________________________\n",
            "Layer (type)                    Output Shape         Param #     Connected to                     \n",
            "==================================================================================================\n",
            "input_2 (InputLayer)            [(None, 10)]         0                                            \n",
            "__________________________________________________________________________________________________\n",
            "input_1 (InputLayer)            [(None, None, 128)]  0                                            \n",
            "__________________________________________________________________________________________________\n",
            "embedding (Embedding)           (None, 10, 10)       370         input_2[0][0]                    \n",
            "__________________________________________________________________________________________________\n",
            "lstm (LSTM)                     (None, 3)            1584        input_1[0][0]                    \n",
            "__________________________________________________________________________________________________\n",
            "lstm_1 (LSTM)                   (None, 3)            168         embedding[0][0]                  \n",
            "__________________________________________________________________________________________________\n",
            "concat_layer (Concatenate)      (None, 6)            0           lstm[0][0]                       \n",
            "                                                                 lstm_1[0][0]                     \n",
            "__________________________________________________________________________________________________\n",
            "dense (Dense)                   (None, 1)            7           concat_layer[0][0]               \n",
            "==================================================================================================\n",
            "Total params: 2,129\n",
            "Trainable params: 2,129\n",
            "Non-trainable params: 0\n",
            "__________________________________________________________________________________________________\n"
          ],
          "name": "stdout"
        }
      ]
    },
    {
      "cell_type": "code",
      "metadata": {
        "id": "4L-X4oFzLVNe"
      },
      "source": [
        "model.compile(optimizer = 'adam', loss = 'binary_crossentropy', metrics = ['accuracy'])"
      ],
      "execution_count": 57,
      "outputs": []
    },
    {
      "cell_type": "code",
      "metadata": {
        "id": "hpx0WLBhroY5"
      },
      "source": [
        "for i in range(0, len(train_berts)):\n",
        "  if (len(train_berts[i]) > 5):\n",
        "    train_berts[i] = train_berts[i][:5]\n",
        "  elif (len(train_berts[i]) == 5):\n",
        "    continue\n",
        "  else:\n",
        "    train_berts[i] = np.concatenate((train_berts[i], np.zeros((5-len(train_berts[i]), 128))))"
      ],
      "execution_count": 58,
      "outputs": []
    },
    {
      "cell_type": "code",
      "metadata": {
        "id": "KZy_pCvLuaDP"
      },
      "source": [
        "for i in range(0, len(val_berts)):\n",
        "  if (len(val_berts[i]) > 5):\n",
        "    val_berts[i] = val_berts[i][:5]\n",
        "  elif (len(val_berts[i]) == 5):\n",
        "    continue\n",
        "  else:\n",
        "    val_berts[i] = np.concatenate((val_berts[i], np.zeros((5-len(val_berts[i]), 128))))"
      ],
      "execution_count": 65,
      "outputs": []
    },
    {
      "cell_type": "code",
      "metadata": {
        "id": "Vgfng8Qlz1Zg"
      },
      "source": [
        "train_berts = np.array(train_berts)\n",
        "val_berts = np.array(val_berts)\n",
        "train_labels = np.array(train_labels)\n",
        "val_labels = np.arrya(val_labels)"
      ],
      "execution_count": null,
      "outputs": []
    },
    {
      "cell_type": "code",
      "metadata": {
        "colab": {
          "base_uri": "https://localhost:8080/"
        },
        "id": "M0FYQH_cLEBV",
        "outputId": "bceb3cfd-a0ee-4058-e258-c6ad9cca2b28"
      },
      "source": [
        "model.fit(x = [train_berts, train_tokens_enc], y = train_labels, epochs = 10, validation_data = ([val_berts, val_tokens_enc], val_labels)) "
      ],
      "execution_count": 78,
      "outputs": [
        {
          "output_type": "stream",
          "text": [
            "Epoch 1/10\n",
            "313/313 [==============================] - 6s 17ms/step - loss: 0.2066 - accuracy: 0.9386 - val_loss: 0.1925 - val_accuracy: 0.9440\n",
            "Epoch 2/10\n",
            "313/313 [==============================] - 5s 15ms/step - loss: 0.1915 - accuracy: 0.9403 - val_loss: 0.1815 - val_accuracy: 0.9455\n",
            "Epoch 3/10\n",
            "313/313 [==============================] - 5s 15ms/step - loss: 0.1832 - accuracy: 0.9415 - val_loss: 0.1839 - val_accuracy: 0.9465\n",
            "Epoch 4/10\n",
            "313/313 [==============================] - 5s 15ms/step - loss: 0.1731 - accuracy: 0.9433 - val_loss: 0.1731 - val_accuracy: 0.9465\n",
            "Epoch 5/10\n",
            "313/313 [==============================] - 5s 15ms/step - loss: 0.1628 - accuracy: 0.9462 - val_loss: 0.1664 - val_accuracy: 0.9525\n",
            "Epoch 6/10\n",
            "313/313 [==============================] - 5s 15ms/step - loss: 0.1572 - accuracy: 0.9485 - val_loss: 0.1685 - val_accuracy: 0.9535\n",
            "Epoch 7/10\n",
            "313/313 [==============================] - 5s 15ms/step - loss: 0.1924 - accuracy: 0.9323 - val_loss: 0.1928 - val_accuracy: 0.9450\n",
            "Epoch 8/10\n",
            "313/313 [==============================] - 5s 15ms/step - loss: 0.1658 - accuracy: 0.9470 - val_loss: 0.1959 - val_accuracy: 0.9505\n",
            "Epoch 9/10\n",
            "313/313 [==============================] - 5s 15ms/step - loss: 0.1483 - accuracy: 0.9501 - val_loss: 0.1646 - val_accuracy: 0.9530\n",
            "Epoch 10/10\n",
            "313/313 [==============================] - 5s 15ms/step - loss: 0.1495 - accuracy: 0.9490 - val_loss: 0.1653 - val_accuracy: 0.9530\n"
          ],
          "name": "stdout"
        },
        {
          "output_type": "execute_result",
          "data": {
            "text/plain": [
              "<tensorflow.python.keras.callbacks.History at 0x7f4e05d54550>"
            ]
          },
          "metadata": {
            "tags": []
          },
          "execution_count": 78
        }
      ]
    }
  ]
}